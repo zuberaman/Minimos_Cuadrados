{
  "nbformat": 4,
  "nbformat_minor": 0,
  "metadata": {
    "colab": {
      "name": "Untitled2.ipynb",
      "provenance": [],
      "authorship_tag": "ABX9TyPWD8WLqdfBa7VYeg2mwnJV",
      "include_colab_link": true
    },
    "kernelspec": {
      "name": "python3",
      "display_name": "Python 3"
    }
  },
  "cells": [
    {
      "cell_type": "markdown",
      "metadata": {
        "id": "view-in-github",
        "colab_type": "text"
      },
      "source": [
        "<a href=\"https://colab.research.google.com/github/zuberaman/Minimos_Cuadrados/blob/master/Minimos_Cuadrados.ipynb\" target=\"_parent\"><img src=\"https://colab.research.google.com/assets/colab-badge.svg\" alt=\"Open In Colab\"/></a>"
      ]
    },
    {
      "cell_type": "code",
      "metadata": {
        "id": "N82h0-xZqOp5",
        "colab_type": "code",
        "colab": {
          "base_uri": "https://localhost:8080/",
          "height": 315
        },
        "outputId": "ab9286ed-544e-48a1-92a1-52e63a05c012"
      },
      "source": [
        "import numpy as np\n",
        "import matplotlib.pyplot as plt\n",
        "\n",
        "def polyfit2(x,y,n):\n",
        "\n",
        "  def inv(A):\n",
        "    return np.linalg.inv(A) #Matriz inversa a la matriz A\n",
        "  def trans(A):\n",
        "    return A.getT() #Transpuesta de la matriz A\n",
        "  def prod(A,B):\n",
        "    return np.dot(A,B) #Produrcto entre los vectores A y B\n",
        "\n",
        "  xlen = len(x) #calcula la longitud del vector x\n",
        "  xlen = len(y)\n",
        "  one = np.ones((xlen,n+1),dtype=int) #Matriz de unos de dimensiones (xlen,n+1)\n",
        "  c1=one[:,[1]] #Seleccionamos solo la columna 1 de la matriz one\n",
        "  xT=np.matrix(x) #convierte los datos en una matriz de numpy\n",
        "  yT=np.matrix(y) #convierte los datos en una matriz de numpy\n",
        "  c2=xT.getT()\n",
        "  c3=np.power(c2,2) #Eleva al cuadrado los elementos de la matriz c2\n",
        "  A=np.hstack([c1,c2,c3]) #Agrupa las columnas c1,c2,c3 en una matriz A\n",
        "  ajuste = prod(prod(inv(prod(trans(A),A)),trans(A)),trans(yT)) #La funcion prod realiza los productos de las matrices que recibe como argumentos\n",
        "  print(ajuste)\n",
        "\n",
        "x=[1.0,-2.0,3.0,4.0]\n",
        "y=[4.0,5.0,-1.0,1.0]\n",
        "\n",
        "polyfit2(x,y,2)\n",
        "\n",
        "def f1(x2):\n",
        "    return (-0.0378 * (x2 ** 2)) - (0.8106 * x2) + 3.75\n",
        "\n",
        "x2 = range(-7, 7)\n",
        "\n",
        "plt.plot(x2, [f1(i) for i in x2])\n",
        "plt.xlim(-7, 7)\n",
        "plt.ylim(-7, 7)\n",
        "plt.scatter(x,y)\n",
        "plt.show()"
      ],
      "execution_count": 3,
      "outputs": [
        {
          "output_type": "stream",
          "text": [
            "[[ 3.75      ]\n",
            " [-0.81060606]\n",
            " [-0.03787879]]\n"
          ],
          "name": "stdout"
        },
        {
          "output_type": "display_data",
          "data": {
            "image/png": "[encoded data removed]",
            "text/plain": [
              "<Figure size 432x288 with 1 Axes>"
            ]
          },
          "metadata": {
            "tags": [],
            "needs_background": "light"
          }
        }
      ]
    }
  ]
}